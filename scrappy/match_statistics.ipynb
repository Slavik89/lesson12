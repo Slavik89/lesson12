from bs4 import BeautifulSoup
import requests
import matplotlib.pyplot as plt


#url = "https://en.wikipedia.org/wiki/Real_Madrid_CF"
url = "https://www.livescore.com/en/football/champions-league-2022-2023/group-f-2022-2023/shakhtar-donetsk-vs-real-madrid/798201/stats/"
r2 = requests.get(url)
soup = BeautifulSoup(r2.text, 'html.parser')

#possession = soup.find(attrs={'id': 'match-detail__statistic__possession'})
#home_possession = possession.find(attrs={'data-testid': 'match-detail_statistic_home-stat'}).get_text()
#poss = soup.find(attrs={'id': 'match-detail__statistic__possession'}).get_text()

stat_tags = soup.find_all(attrs={'data-testid': 'match-detail_statistic_header'})

stat_arr = []
stat_home_arr = []
stat_name_arr = []
stat_away_arr = []

for stat in stat_tags:
  stat_dict = {'home':'empty', 'stat_name':'empty', 'away':'empty'}
  #stat_arr.append(stat.find(attrs={'data-testid': 'match-detail_statistic_stat-name'}).get_text())
  stat_dict['home'] = stat.find(attrs={'data-testid': 'match-detail_statistic_home-stat'}).get_text()
  stat_dict['stat_name'] = stat.find(attrs={'data-testid': 'match-detail_statistic_stat-name'}).get_text()
  stat_dict['away'] = stat.find(attrs={'data-testid': 'match-detail_statistic_away-stat'}).get_text()
  stat_arr.append(stat_dict)

  stat_home_arr.append(int(stat.find(attrs={'data-testid': 'match-detail_statistic_home-stat'}).get_text()))
  stat_name_arr.append(stat.find(attrs={'data-testid': 'match-detail_statistic_stat-name'}).get_text())
  stat_away_arr.append(int(stat.find(attrs={'data-testid': 'match-detail_statistic_away-stat'}).get_text()))

#r = requests.get('https://www.python.org')
#print(r.status_code)
#print(soup)
#print(home_possession)
#print(stat_arr)
plt.title('Shakhtar - Real')  
plt.barh(stat_name_arr, stat_home_arr, label='Shakhtar', color='#ADD8E6')

stat_start = [stat_home_arr[i] + stat_away_arr[i] for i in range(len(stat_home_arr))]
plt.barh(stat_name_arr, stat_away_arr, left=stat_home_arr, color='orange')
#plt.bar_label(p1, label_type='center', fontsize=8)
#plt.xlim(0, 100)
#print(stat_away_arr)
#print(stat_start)
plt.show()


