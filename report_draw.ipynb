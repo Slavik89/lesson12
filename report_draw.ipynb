{
 "cells": [
  {
   "cell_type": "markdown",
   "metadata": {},
   "source": [
    "[See code link:](https://github.com/Football-Analytics-UCU/Real-Madrid/blob/slavik-br-1/src/patenko/la_liga_season23-24_history.ipynb)\n",
    "<a href=\"https://github.com/Football-Analytics-UCU/Real-Madrid/blob/slavik-br-1/src/patenko/la_liga_season23-24_history.ipynb\" target=\"_blank\">See code link</a>\n",
    "<br>\n",
    "<img src=\"src/Barcelona_soccerbar.png\">\n",
    "<br>\n",
    "<a href=\"https://github.com/Football-Analytics-UCU/Real-Madrid/blob/slavik-br-1/src/patenko/la_liga_season23-24_history.ipynb\" target=\"_blank\">See code link</a>"
   ]
  },
  {
   "cell_type": "code",
   "execution_count": 8,
   "metadata": {},
   "outputs": [
    {
     "data": {
      "text/html": [
       "<script>alert('Hello World!');</script>"
      ],
      "text/plain": [
       "<IPython.core.display.HTML object>"
      ]
     },
     "metadata": {},
     "output_type": "display_data"
    }
   ],
   "source": [
    "from IPython.display import display, HTML, Javascript\n",
    "js = \"<script>alert('Hello World!');</script>\"\n",
    "display(HTML(js))"
   ]
  },
  {
   "cell_type": "code",
   "execution_count": 5,
   "metadata": {},
   "outputs": [
    {
     "data": {
      "application/vnd.jupyter.widget-view+json": {
       "model_id": "cd8ce81d14784f288f0c6e146cc5d06e",
       "version_major": 2,
       "version_minor": 0
      },
      "text/plain": [
       "Accordion(children=(FloatSlider(value=0.0),), titles=('',))"
      ]
     },
     "metadata": {},
     "output_type": "display_data"
    }
   ],
   "source": [
    "from ipywidgets import Accordion, FloatSlider\n",
    "acc = Accordion(children=[FloatSlider()], selected_index=None)\n",
    "display(acc)"
   ]
  }
 ],
 "metadata": {
  "kernelspec": {
   "display_name": "Python 3",
   "language": "python",
   "name": "python3"
  },
  "language_info": {
   "codemirror_mode": {
    "name": "ipython",
    "version": 3
   },
   "file_extension": ".py",
   "mimetype": "text/x-python",
   "name": "python",
   "nbconvert_exporter": "python",
   "pygments_lexer": "ipython3",
   "version": "3.10.11"
  }
 },
 "nbformat": 4,
 "nbformat_minor": 2
}
